{
 "cells": [
  {
   "cell_type": "markdown",
   "id": "fc7bc7ef",
   "metadata": {},
   "source": [
    "Código utilizado en el video:<br>\n",
    "https://youtu.be/A8wjmMyt8Zg"
   ]
  },
  {
   "attachments": {
    "matplotlib-logo.png": {
     "image/png": "[encoded data removed]"
    }
   },
   "cell_type": "markdown",
   "id": "83d7fb4b",
   "metadata": {},
   "source": [
    "![matplotlib-logo.png](attachment:matplotlib-logo.png)"
   ]
  },
  {
   "cell_type": "code",
   "execution_count": 1,
   "id": "3067e3c0",
   "metadata": {},
   "outputs": [],
   "source": [
    "import matplotlib.pyplot as plt\n",
    "import pandas as pd"
   ]
  },
  {
   "cell_type": "code",
   "execution_count": 2,
   "id": "ce792d17",
   "metadata": {},
   "outputs": [
    {
     "data": {
      "text/html": [
       "<div>\n",
       "<style scoped>\n",
       "    .dataframe tbody tr th:only-of-type {\n",
       "        vertical-align: middle;\n",
       "    }\n",
       "\n",
       "    .dataframe tbody tr th {\n",
       "        vertical-align: top;\n",
       "    }\n",
       "\n",
       "    .dataframe thead th {\n",
       "        text-align: right;\n",
       "    }\n",
       "</style>\n",
       "<table border=\"1\" class=\"dataframe\">\n",
       "  <thead>\n",
       "    <tr style=\"text-align: right;\">\n",
       "      <th></th>\n",
       "      <th>NOMBRE</th>\n",
       "      <th>APELLIDO</th>\n",
       "      <th>REGION ASIGNADA</th>\n",
       "      <th>FECHA_INGRESO</th>\n",
       "      <th>VENTAS</th>\n",
       "      <th>CALIFICACION DADA POR LOS CLIENTES</th>\n",
       "    </tr>\n",
       "  </thead>\n",
       "  <tbody>\n",
       "    <tr>\n",
       "      <th>0</th>\n",
       "      <td>Luciana</td>\n",
       "      <td>Rodríguez</td>\n",
       "      <td>Brasil</td>\n",
       "      <td>2021-08-01</td>\n",
       "      <td>180.0</td>\n",
       "      <td>MUY BUENA</td>\n",
       "    </tr>\n",
       "    <tr>\n",
       "      <th>1</th>\n",
       "      <td>Santiago</td>\n",
       "      <td>González</td>\n",
       "      <td>Uruguay</td>\n",
       "      <td>2013-12-03</td>\n",
       "      <td>130.0</td>\n",
       "      <td>MALA</td>\n",
       "    </tr>\n",
       "    <tr>\n",
       "      <th>2</th>\n",
       "      <td>Paola</td>\n",
       "      <td>Gómez</td>\n",
       "      <td>Colombia</td>\n",
       "      <td>2014-11-20</td>\n",
       "      <td>198.0</td>\n",
       "      <td>MUY BUENA</td>\n",
       "    </tr>\n",
       "    <tr>\n",
       "      <th>3</th>\n",
       "      <td>Carlos</td>\n",
       "      <td>Fernández</td>\n",
       "      <td>Brasil</td>\n",
       "      <td>2022-03-14</td>\n",
       "      <td>150.0</td>\n",
       "      <td>MALA</td>\n",
       "    </tr>\n",
       "    <tr>\n",
       "      <th>4</th>\n",
       "      <td>Jonathan</td>\n",
       "      <td>López</td>\n",
       "      <td>Paraguay</td>\n",
       "      <td>2018-07-19</td>\n",
       "      <td>135.0</td>\n",
       "      <td>MALA</td>\n",
       "    </tr>\n",
       "    <tr>\n",
       "      <th>5</th>\n",
       "      <td>Gabriela</td>\n",
       "      <td>Martínez</td>\n",
       "      <td>Chile</td>\n",
       "      <td>2019-10-07</td>\n",
       "      <td>148.0</td>\n",
       "      <td>BUENA</td>\n",
       "    </tr>\n",
       "    <tr>\n",
       "      <th>6</th>\n",
       "      <td>Ezequiel</td>\n",
       "      <td>Romero</td>\n",
       "      <td>Chile</td>\n",
       "      <td>2017-10-06</td>\n",
       "      <td>220.0</td>\n",
       "      <td>EXCELENTE</td>\n",
       "    </tr>\n",
       "    <tr>\n",
       "      <th>7</th>\n",
       "      <td>Maximiliano</td>\n",
       "      <td>Torres</td>\n",
       "      <td>Argentina</td>\n",
       "      <td>2015-01-05</td>\n",
       "      <td>155.0</td>\n",
       "      <td>BUENA</td>\n",
       "    </tr>\n",
       "    <tr>\n",
       "      <th>8</th>\n",
       "      <td>Julieta</td>\n",
       "      <td>Ruiz</td>\n",
       "      <td>Uruguay</td>\n",
       "      <td>2016-09-03</td>\n",
       "      <td>219.0</td>\n",
       "      <td>EXCELENTE</td>\n",
       "    </tr>\n",
       "    <tr>\n",
       "      <th>9</th>\n",
       "      <td>Mariano</td>\n",
       "      <td>Suarez</td>\n",
       "      <td>Argentina</td>\n",
       "      <td>2013-04-17</td>\n",
       "      <td>200.0</td>\n",
       "      <td>EXCELENTE</td>\n",
       "    </tr>\n",
       "  </tbody>\n",
       "</table>\n",
       "</div>"
      ],
      "text/plain": [
       "        NOMBRE   APELLIDO REGION ASIGNADA FECHA_INGRESO  VENTAS  \\\n",
       "0      Luciana  Rodríguez          Brasil    2021-08-01   180.0   \n",
       "1     Santiago   González         Uruguay    2013-12-03   130.0   \n",
       "2        Paola      Gómez        Colombia    2014-11-20   198.0   \n",
       "3       Carlos  Fernández          Brasil    2022-03-14   150.0   \n",
       "4     Jonathan      López        Paraguay    2018-07-19   135.0   \n",
       "5     Gabriela   Martínez           Chile    2019-10-07   148.0   \n",
       "6     Ezequiel     Romero           Chile    2017-10-06   220.0   \n",
       "7  Maximiliano     Torres       Argentina    2015-01-05   155.0   \n",
       "8      Julieta       Ruiz         Uruguay    2016-09-03   219.0   \n",
       "9      Mariano     Suarez       Argentina    2013-04-17   200.0   \n",
       "\n",
       "  CALIFICACION DADA POR LOS CLIENTES  \n",
       "0                          MUY BUENA  \n",
       "1                               MALA  \n",
       "2                          MUY BUENA  \n",
       "3                               MALA  \n",
       "4                               MALA  \n",
       "5                              BUENA  \n",
       "6                          EXCELENTE  \n",
       "7                              BUENA  \n",
       "8                          EXCELENTE  \n",
       "9                          EXCELENTE  "
      ]
     },
     "execution_count": 2,
     "metadata": {},
     "output_type": "execute_result"
    }
   ],
   "source": [
    "vendedores_df = pd.read_excel(\"datos de vendedores.xlsx\")\n",
    "vendedores_df.head(10)"
   ]
  },
  {
   "cell_type": "markdown",
   "id": "46688bf6",
   "metadata": {},
   "source": [
    "# 4- Histogramas"
   ]
  },
  {
   "cell_type": "code",
   "execution_count": 3,
   "id": "e7eeea15",
   "metadata": {},
   "outputs": [
    {
     "data": {
      "text/plain": [
       "(array([6., 2., 8., 2., 2., 6., 6., 6., 0., 4.]),\n",
       " array([130., 139., 148., 157., 166., 175., 184., 193., 202., 211., 220.]),\n",
       " <BarContainer object of 10 artists>)"
      ]
     },
     "execution_count": 3,
     "metadata": {},
     "output_type": "execute_result"
    },
    {
     "data": {
      "image/png": "[encoded data removed]",
      "text/plain": [
       "<Figure size 432x288 with 1 Axes>"
      ]
     },
     "metadata": {
      "needs_background": "light"
     },
     "output_type": "display_data"
    }
   ],
   "source": [
    "plt.hist(vendedores_df['VENTAS'])"
   ]
  },
  {
   "cell_type": "code",
   "execution_count": 4,
   "id": "0d628f28",
   "metadata": {},
   "outputs": [
    {
     "data": {
      "text/plain": [
       "(array([ 8., 10.,  8., 12.,  4.]),\n",
       " array([130., 148., 166., 184., 202., 220.]),\n",
       " <BarContainer object of 5 artists>)"
      ]
     },
     "execution_count": 4,
     "metadata": {},
     "output_type": "execute_result"
    },
    {
     "data": {
      "image/png": "[encoded data removed]",
      "text/plain": [
       "<Figure size 432x288 with 1 Axes>"
      ]
     },
     "metadata": {
      "needs_background": "light"
     },
     "output_type": "display_data"
    }
   ],
   "source": [
    "plt.rcParams['axes.facecolor'] = 'lightgrey'\n",
    "plt.hist(vendedores_df['VENTAS'], bins=5, color='gold',edgecolor='black')"
   ]
  },
  {
   "cell_type": "markdown",
   "id": "0d58bc1f",
   "metadata": {},
   "source": [
    "# 5- Tortas"
   ]
  },
  {
   "cell_type": "code",
   "execution_count": 5,
   "id": "543f54f2",
   "metadata": {},
   "outputs": [
    {
     "name": "stdout",
     "output_type": "stream",
     "text": [
      "REGION ASIGNADA\n",
      "Argentina    1563.0\n",
      "Brasil       1550.0\n",
      "Chile        1100.0\n",
      "Colombia      673.0\n",
      "Ecuador       870.0\n",
      "Paraguay      585.0\n",
      "Uruguay       883.0\n",
      "Name: VENTAS, dtype: float64\n"
     ]
    }
   ],
   "source": [
    "# pandas - 12 - El Método groupby()\n",
    "# https://youtu.be/aGojwbFRGmk\n",
    "ventas_segun_region = vendedores_df.groupby(['REGION ASIGNADA'])['VENTAS'].sum()\n",
    "print(ventas_segun_region)"
   ]
  },
  {
   "cell_type": "code",
   "execution_count": 6,
   "id": "cdff7225",
   "metadata": {},
   "outputs": [
    {
     "name": "stdout",
     "output_type": "stream",
     "text": [
      "<class 'pandas.core.series.Series'>\n"
     ]
    }
   ],
   "source": [
    "print(type(ventas_segun_region))"
   ]
  },
  {
   "cell_type": "code",
   "execution_count": 7,
   "id": "6bc07c1e",
   "metadata": {},
   "outputs": [
    {
     "data": {
      "text/plain": [
       "([<matplotlib.patches.Wedge at 0x28170132580>,\n",
       "  <matplotlib.patches.Wedge at 0x28170132af0>,\n",
       "  <matplotlib.patches.Wedge at 0x28170132fd0>,\n",
       "  <matplotlib.patches.Wedge at 0x281701404f0>,\n",
       "  <matplotlib.patches.Wedge at 0x281701409d0>,\n",
       "  <matplotlib.patches.Wedge at 0x28170140eb0>,\n",
       "  <matplotlib.patches.Wedge at 0x2817014e3d0>],\n",
       " [Text(0.8555224571673303, 0.6914342523207638, ''),\n",
       "  Text(-0.49101740213207995, 0.9843281519917346, ''),\n",
       "  Text(-1.098917976640912, -0.04877787014050788, ''),\n",
       "  Text(-0.7541308936567176, -0.8008037182933909, ''),\n",
       "  Text(-0.09269390348086183, -1.096087514871637, ''),\n",
       "  Text(0.5734426708214758, -0.938703096448037, ''),\n",
       "  Text(1.0198903083556177, -0.41209678344083567, '')])"
      ]
     },
     "execution_count": 7,
     "metadata": {},
     "output_type": "execute_result"
    },
    {
     "data": {
      "image/png": "[encoded data removed]",
      "text/plain": [
       "<Figure size 432x288 with 1 Axes>"
      ]
     },
     "metadata": {},
     "output_type": "display_data"
    }
   ],
   "source": [
    "plt.pie(ventas_segun_region)"
   ]
  },
  {
   "cell_type": "code",
   "execution_count": 8,
   "id": "3dd991d6",
   "metadata": {},
   "outputs": [
    {
     "data": {
      "image/png": "[encoded data removed]",
      "text/plain": [
       "<Figure size 432x288 with 1 Axes>"
      ]
     },
     "metadata": {},
     "output_type": "display_data"
    }
   ],
   "source": [
    "plt.pie(ventas_segun_region, labels = ventas_segun_region.index)\n",
    "plt.show()"
   ]
  },
  {
   "cell_type": "code",
   "execution_count": 10,
   "id": "cddf5ce2",
   "metadata": {},
   "outputs": [
    {
     "data": {
      "image/png": "[encoded data removed]",
      "text/plain": [
       "<Figure size 432x288 with 1 Axes>"
      ]
     },
     "metadata": {},
     "output_type": "display_data"
    }
   ],
   "source": [
    "plt.pie(ventas_segun_region, labels = ventas_segun_region.index, startangle = 180)\n",
    "plt.show()"
   ]
  },
  {
   "cell_type": "code",
   "execution_count": 11,
   "id": "583c77d5",
   "metadata": {},
   "outputs": [
    {
     "data": {
      "image/png": "[encoded data removed]",
      "text/plain": [
       "<Figure size 432x288 with 1 Axes>"
      ]
     },
     "metadata": {},
     "output_type": "display_data"
    }
   ],
   "source": [
    "resaltar = [0.1,0,0,0,0,0,0]\n",
    "plt.pie(ventas_segun_region, labels = ventas_segun_region.index, explode=resaltar)\n",
    "plt.show()"
   ]
  },
  {
   "cell_type": "markdown",
   "id": "c97fb4f2",
   "metadata": {},
   "source": [
    "# 6- Cajas"
   ]
  },
  {
   "cell_type": "code",
   "execution_count": 12,
   "id": "bc8ea9c9",
   "metadata": {},
   "outputs": [
    {
     "data": {
      "image/png": "[encoded data removed]",
      "text/plain": [
       "<Figure size 432x288 with 1 Axes>"
      ]
     },
     "metadata": {
      "needs_background": "light"
     },
     "output_type": "display_data"
    }
   ],
   "source": [
    "plt.rcParams['axes.facecolor'] = 'white'\n",
    "plt.boxplot(ventas_segun_region)\n",
    "plt.grid()"
   ]
  },
  {
   "cell_type": "code",
   "execution_count": 13,
   "id": "2d117a36",
   "metadata": {},
   "outputs": [
    {
     "data": {
      "text/plain": [
       "REGION ASIGNADA\n",
       "Argentina    1563.0\n",
       "Brasil       1550.0\n",
       "Chile        1100.0\n",
       "Colombia      673.0\n",
       "Ecuador       870.0\n",
       "Paraguay      585.0\n",
       "Uruguay       883.0\n",
       "Name: VENTAS, dtype: float64"
      ]
     },
     "execution_count": 13,
     "metadata": {},
     "output_type": "execute_result"
    }
   ],
   "source": [
    "ventas_segun_region"
   ]
  },
  {
   "cell_type": "code",
   "execution_count": 14,
   "id": "752dac2a",
   "metadata": {},
   "outputs": [
    {
     "data": {
      "text/plain": [
       "count       7.000000\n",
       "mean     1032.000000\n",
       "std       394.132803\n",
       "min       585.000000\n",
       "25%       771.500000\n",
       "50%       883.000000\n",
       "75%      1325.000000\n",
       "max      1563.000000\n",
       "Name: VENTAS, dtype: float64"
      ]
     },
     "execution_count": 14,
     "metadata": {},
     "output_type": "execute_result"
    }
   ],
   "source": [
    "ventas_segun_region.describe()"
   ]
  },
  {
   "cell_type": "code",
   "execution_count": null,
   "id": "0cd8bc6d",
   "metadata": {},
   "outputs": [],
   "source": []
  }
 ],
 "metadata": {
  "kernelspec": {
   "display_name": "Python 3 (ipykernel)",
   "language": "python",
   "name": "python3"
  },
  "language_info": {
   "codemirror_mode": {
    "name": "ipython",
    "version": 3
   },
   "file_extension": ".py",
   "mimetype": "text/x-python",
   "name": "python",
   "nbconvert_exporter": "python",
   "pygments_lexer": "ipython3",
   "version": "3.9.7"
  }
 },
 "nbformat": 4,
 "nbformat_minor": 5
}
